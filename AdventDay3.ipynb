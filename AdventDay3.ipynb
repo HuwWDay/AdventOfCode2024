{
 "cells": [
  {
   "cell_type": "markdown",
   "metadata": {},
   "source": [
    "https://adventofcode.com/2024/day/3"
   ]
  },
  {
   "cell_type": "code",
   "execution_count": null,
   "metadata": {},
   "outputs": [],
   "source": [
    "import re\n",
    "\n",
    "def mul(X:int,Y:int)->int:\n",
    "    if X.isdigit() and Y.isdigit():\n",
    "        X = int(X)\n",
    "        Y = int(Y)\n",
    "        return X*Y\n",
    "    else:\n",
    "        return 0\n",
    "\n",
    "def string_parser(string:str)->int:\n",
    "    pattern = r\"mul\\(\\d+,\\d+\\)\"\n",
    "    matches = re.findall(pattern, string)\n",
    "    Out_Counter = 0\n",
    "    for match in matches:\n",
    "        match = match[4:-1]\n",
    "        X,Y = match.split(',')\n",
    "        Out = mul(X,Y)\n",
    "        Out_Counter += Out\n",
    "    return Out_Counter\n",
    "\n",
    "\n",
    "test_string = \"xmul(2,4)%&mul[3,7]!@^do_not_mul(5,5)+mul(32,64]then(mul(11,8)mul(8,5))\"\n",
    "assert string_parser(test_string) == 161"
   ]
  },
  {
   "cell_type": "code",
   "execution_count": 11,
   "metadata": {},
   "outputs": [
    {
     "name": "stdout",
     "output_type": "stream",
     "text": [
      "190604937\n"
     ]
    }
   ],
   "source": [
    "# Read om day3input.txt from AdventCode \n",
    "with open('day3input.txt') as f:\n",
    "    data = f.read()\n",
    "print(string_parser(data))"
   ]
  },
  {
   "cell_type": "markdown",
   "metadata": {},
   "source": [
    "Part 2:"
   ]
  },
  {
   "cell_type": "code",
   "execution_count": 18,
   "metadata": {},
   "outputs": [
    {
     "name": "stdout",
     "output_type": "stream",
     "text": [
      "82857512\n"
     ]
    }
   ],
   "source": [
    "# Now we might see \"do()\" and \"don't()\" in the string. \n",
    "# If we see \"don't()\", we should not multiply the numbers in the brackets until we see a \"do()\" again.\n",
    "\n",
    "def string_parser_do(string: str) -> int:\n",
    "    pattern = r\"mul\\(\\d+,\\d+\\)|do\\(\\)|don't\\(\\)\"\n",
    "    matches = re.findall(pattern, string)\n",
    "    Truth = True\n",
    "    Out_Counter = 0\n",
    "    for match in matches:\n",
    "        if match == \"do()\":\n",
    "            Truth = True\n",
    "        elif match == \"don't()\":\n",
    "            Truth = False\n",
    "        else:\n",
    "            if Truth:\n",
    "                match = match[4:-1]\n",
    "                X,Y = match.split(',')\n",
    "                Out = mul(X,Y)\n",
    "                Out_Counter += Out\n",
    "    return Out_Counter\n",
    "    \n",
    "\n",
    "test_string = \"xmul(2,4)&mul[3,7]!^don't()_mul(5,5)+mul(32,64](mul(11,8)undo()?mul(8,5))\"\n",
    "\n",
    "assert string_parser_do(test_string) == 48\n",
    "\n",
    "with open('day3input.txt') as f:\n",
    "    data = f.read()\n",
    "print(string_parser_do(data))"
   ]
  }
 ],
 "metadata": {
  "kernelspec": {
   "display_name": "peaceviz",
   "language": "python",
   "name": "python3"
  },
  "language_info": {
   "codemirror_mode": {
    "name": "ipython",
    "version": 3
   },
   "file_extension": ".py",
   "mimetype": "text/x-python",
   "name": "python",
   "nbconvert_exporter": "python",
   "pygments_lexer": "ipython3",
   "version": "3.12.0"
  }
 },
 "nbformat": 4,
 "nbformat_minor": 2
}
