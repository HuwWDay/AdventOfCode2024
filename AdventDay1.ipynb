{
 "cells": [
  {
   "cell_type": "markdown",
   "metadata": {},
   "source": [
    "https://adventofcode.com/2024/day/1"
   ]
  },
  {
   "cell_type": "markdown",
   "metadata": {},
   "source": [
    "Part 1:"
   ]
  },
  {
   "cell_type": "code",
   "execution_count": 17,
   "metadata": {},
   "outputs": [
    {
     "name": "stdout",
     "output_type": "stream",
     "text": [
      "Example Test, should be 11:  11\n",
      "Actual answer:  1222801\n"
     ]
    },
    {
     "name": "stderr",
     "output_type": "stream",
     "text": [
      "C:\\Users\\hd15639\\AppData\\Local\\Temp\\ipykernel_14984\\1351979048.py:4: ParserWarning: Falling back to the 'python' engine because the 'c' engine does not support regex separators (separators > 1 char and different from '\\s+' are interpreted as regex); you can avoid this warning by specifying engine='python'.\n",
      "  columns = pd.read_csv(file, sep=\"   \", header=None)\n"
     ]
    }
   ],
   "source": [
    "import pandas as pd\n",
    "\n",
    "def txt_to_lists(file:str)->tuple[list, list]:\n",
    "    columns = pd.read_csv(file, sep=\"   \", header=None)\n",
    "    #print(columns)\n",
    "    list1 = columns[0].tolist()\n",
    "    list2 = columns[1].tolist()\n",
    "    return list1, list2\n",
    "\n",
    "list1, list2 = txt_to_lists('day1input.txt')\n",
    "\n",
    "def ListDistance(list1:list, list2:list)->int:\n",
    "    dist_list = []\n",
    "    while len(list1) > 0 and len(list2) > 0:\n",
    "        min1 = min(list1)\n",
    "        min2 = min(list2)\n",
    "        dist = abs(min1 - min2)\n",
    "        dist_list.append(dist)\n",
    "        list1.remove(min1)\n",
    "        list2.remove(min2)\n",
    "    return sum(dist_list)\n",
    "\n",
    "# Example\n",
    "exlist1 = [3, 4, 2, 1, 3, 3]\n",
    "exlist2 = [4, 3, 5, 3, 9, 3]\n",
    "\n",
    "print(\"Example Test, should be 11: \", ListDistance(exlist1, exlist2)) # Output: 11\n",
    "\n",
    "print(\"Actual answer: \", ListDistance(list1, list2)) # Output: 11"
   ]
  },
  {
   "cell_type": "markdown",
   "metadata": {},
   "source": [
    "Part 2:"
   ]
  },
  {
   "cell_type": "code",
   "execution_count": 18,
   "metadata": {},
   "outputs": [
    {
     "name": "stdout",
     "output_type": "stream",
     "text": [
      "Example Test, should be 31:  31\n",
      "Actual answer:  22545250\n"
     ]
    },
    {
     "name": "stderr",
     "output_type": "stream",
     "text": [
      "C:\\Users\\hd15639\\AppData\\Local\\Temp\\ipykernel_14984\\1351979048.py:4: ParserWarning: Falling back to the 'python' engine because the 'c' engine does not support regex separators (separators > 1 char and different from '\\s+' are interpreted as regex); you can avoid this warning by specifying engine='python'.\n",
      "  columns = pd.read_csv(file, sep=\"   \", header=None)\n"
     ]
    }
   ],
   "source": [
    "def ListSimilarity(list1:list, list2:list)->int:\n",
    "    sim_score = 0\n",
    "    for unique_item in list1:\n",
    "        #print(\"Item\", unique_item)\n",
    "        list2_count = list2.count(unique_item)\n",
    "        #print(\"Count\", list2_count)\n",
    "        sim_score += list2_count*unique_item\n",
    "    return sim_score\n",
    "\n",
    "# Example\n",
    "exlist1 = [3, 4, 2, 1, 3, 3]\n",
    "exlist2 = [4, 3, 5, 3, 9, 3]\n",
    "\n",
    "print(\"Example Test, should be 31: \", ListSimilarity(exlist1, exlist2))\n",
    "\n",
    "list1, list2 = txt_to_lists('day1input.txt')\n",
    "print(\"Actual answer: \", ListSimilarity(list1, list2)) # Output: 31"
   ]
  }
 ],
 "metadata": {
  "kernelspec": {
   "display_name": "peaceviz",
   "language": "python",
   "name": "python3"
  },
  "language_info": {
   "codemirror_mode": {
    "name": "ipython",
    "version": 3
   },
   "file_extension": ".py",
   "mimetype": "text/x-python",
   "name": "python",
   "nbconvert_exporter": "python",
   "pygments_lexer": "ipython3",
   "version": "3.12.0"
  }
 },
 "nbformat": 4,
 "nbformat_minor": 2
}
