{
 "cells": [
  {
   "cell_type": "markdown",
   "metadata": {},
   "source": [
    "https://adventofcode.com/2024/day/4"
   ]
  },
  {
   "cell_type": "markdown",
   "metadata": {},
   "source": [
    "Part 1:"
   ]
  },
  {
   "cell_type": "code",
   "execution_count": 27,
   "metadata": {},
   "outputs": [
    {
     "name": "stdout",
     "output_type": "stream",
     "text": [
      "[['M' 'M' 'M' 'S' 'X' 'X' 'M' 'A' 'S' 'M']\n",
      " ['M' 'S' 'A' 'M' 'X' 'M' 'S' 'M' 'S' 'A']\n",
      " ['A' 'M' 'X' 'S' 'X' 'M' 'A' 'A' 'M' 'M']\n",
      " ['M' 'S' 'A' 'M' 'A' 'S' 'M' 'S' 'M' 'X']\n",
      " ['X' 'M' 'A' 'S' 'A' 'M' 'X' 'A' 'M' 'M']\n",
      " ['X' 'X' 'A' 'M' 'M' 'X' 'X' 'A' 'M' 'A']\n",
      " ['S' 'M' 'S' 'M' 'S' 'A' 'S' 'X' 'S' 'S']\n",
      " ['S' 'A' 'X' 'A' 'M' 'A' 'S' 'A' 'A' 'A']\n",
      " ['M' 'A' 'M' 'M' 'M' 'X' 'M' 'M' 'M' 'M']\n",
      " ['M' 'X' 'M' 'X' 'A' 'X' 'M' 'A' 'S' 'X']]\n"
     ]
    }
   ],
   "source": [
    "# Word search looking for xmas including vertical, horizontal and diagonal\n",
    "import numpy as np\n",
    "import re\n",
    "\n",
    "test1 = np.array([[\".\", \".\", \"X\", \".\", \".\", \".\"], [\".\", \"S\", \"A\", \"M\", \"X\", \".\"], [\".\", \"A\", \".\", \".\", \"A\", \".\"],\n",
    "                  [\"X\", \"M\", \"A\", \"S\", \".\", \"S\"], [\".\", \"X\", \".\", \".\", \".\", \".\"]])\n",
    "\n",
    "def stringlist_to_array(stringlist):\n",
    "    return np.array([list(row) for row in stringlist])\n",
    "\n",
    "strings = [\n",
    "    \"MMMSXXMASM\",\n",
    "    \"MSAMXMSMSA\",\n",
    "    \"AMXSXMAAMM\",\n",
    "    \"MSAMASMSMX\",\n",
    "    \"XMASAMXAMM\",\n",
    "    \"XXAMMXXAMA\",\n",
    "    \"SMSMSASXSS\",\n",
    "    \"SAXAMASAAA\",\n",
    "    \"MAMMMXMMMM\",\n",
    "    \"MXMXAXMASX\"\n",
    "]\n",
    "\n",
    "test2 = stringlist_to_array(strings)\n",
    "print(test2)"
   ]
  },
  {
   "cell_type": "code",
   "execution_count": 28,
   "metadata": {},
   "outputs": [],
   "source": [
    "def xmas_finder(wordsearch: np.array) -> int:\n",
    "    xmas_counter = 0\n",
    "    # For each row in the wordsearch, look for the word 'XMAS'\n",
    "    for row in wordsearch:\n",
    "        matches1 = re.findall('XMAS', ''.join(row))\n",
    "        matches2 = re.findall('SAMX', ''.join(row))\n",
    "        xmas_counter += len(matches1) + len(matches2)\n",
    "    # For each column in the wordsearch, look for the word 'XMAS'\n",
    "    for column in wordsearch.T:\n",
    "        matches1 = re.findall('XMAS', ''.join(column))\n",
    "        matches2 = re.findall('SAMX', ''.join(column))\n",
    "        xmas_counter += len(matches1) + len(matches2)\n",
    "    # For each diagonal in the wordsearch, look for the word 'XMAS'\n",
    "    dimension = max(wordsearch.shape[0], wordsearch.shape[1])\n",
    "    # Search every diagonal from my numpy array\n",
    "    for i in range(-dimension, dimension):\n",
    "        matches1 = re.findall('XMAS', ''.join(wordsearch.diagonal(i)))\n",
    "        matches2 = re.findall('SAMX', ''.join(wordsearch.diagonal(i)))\n",
    "        xmas_counter += len(matches1) + len(matches2)\n",
    "        matches1 = re.findall('XMAS', ''.join(np.fliplr(wordsearch).diagonal(i)))\n",
    "        matches2 = re.findall('SAMX', ''.join(np.fliplr(wordsearch).diagonal(i)))\n",
    "        xmas_counter += len(matches1) + len(matches2)\n",
    "    return xmas_counter\n",
    "\n",
    "assert xmas_finder(test1) == 4, xmas_finder(test1)\n",
    "assert xmas_finder(test2) == 18, xmas_finder(test2)"
   ]
  },
  {
   "cell_type": "code",
   "execution_count": 29,
   "metadata": {},
   "outputs": [
    {
     "name": "stdout",
     "output_type": "stream",
     "text": [
      "[['S' 'X' 'M' ... 'S' 'X' 'M']\n",
      " ['S' 'A' 'M' ... 'M' 'A' 'S']\n",
      " ['S' 'A' 'M' ... 'M' 'A' 'M']\n",
      " ...\n",
      " ['M' 'A' 'S' ... 'A' 'M' 'S']\n",
      " ['M' 'A' 'M' ... 'M' 'S' 'X']\n",
      " ['M' 'M' 'S' ... 'S' 'S' 'X']]\n",
      "2493\n"
     ]
    }
   ],
   "source": [
    "# Load in day4input.txt and run the function stringlist_to_array on it\n",
    "with open('day4input.txt', 'r') as file:\n",
    "    day4input = file.read().splitlines()\n",
    "    wordsearch = stringlist_to_array(day4input)\n",
    "    print(wordsearch)\n",
    "    print(xmas_finder(wordsearch))"
   ]
  },
  {
   "cell_type": "markdown",
   "metadata": {},
   "source": [
    "Part 2:"
   ]
  },
  {
   "cell_type": "code",
   "execution_count": null,
   "metadata": {},
   "outputs": [
    {
     "name": "stdout",
     "output_type": "stream",
     "text": [
      "Index (0, 8) is on the border\n",
      "Index (0, 16) is on the border\n",
      "Index (0, 21) is on the border\n",
      "Index (0, 25) is on the border\n",
      "Index (0, 26) is on the border\n",
      "Index (0, 29) is on the border\n",
      "Index (0, 32) is on the border\n",
      "Index (0, 37) is on the border\n",
      "Index (0, 41) is on the border\n",
      "Index (0, 57) is on the border\n",
      "Index (0, 68) is on the border\n",
      "Index (0, 78) is on the border\n",
      "Index (0, 96) is on the border\n",
      "Index (0, 100) is on the border\n",
      "Index (0, 115) is on the border\n",
      "Index (4, 139) is on the border\n",
      "Index (11, 0) is on the border\n",
      "Index (11, 139) is on the border\n",
      "Index (14, 0) is on the border\n",
      "Index (15, 0) is on the border\n",
      "Index (21, 0) is on the border\n",
      "Index (23, 0) is on the border\n",
      "Index (31, 0) is on the border\n",
      "Index (31, 139) is on the border\n",
      "Index (33, 0) is on the border\n",
      "Index (33, 139) is on the border\n",
      "Index (35, 139) is on the border\n",
      "Index (37, 139) is on the border\n",
      "Index (39, 0) is on the border\n",
      "Index (41, 139) is on the border\n",
      "Index (43, 139) is on the border\n",
      "Index (50, 0) is on the border\n",
      "Index (50, 139) is on the border\n",
      "Index (58, 139) is on the border\n",
      "Index (59, 0) is on the border\n",
      "Index (63, 139) is on the border\n",
      "Index (65, 139) is on the border\n",
      "Index (68, 0) is on the border\n",
      "Index (71, 0) is on the border\n",
      "Index (74, 139) is on the border\n",
      "Index (80, 139) is on the border\n",
      "Index (84, 139) is on the border\n",
      "Index (87, 0) is on the border\n",
      "Index (90, 0) is on the border\n",
      "Index (92, 0) is on the border\n",
      "Index (92, 139) is on the border\n",
      "Index (103, 139) is on the border\n",
      "Index (105, 0) is on the border\n",
      "Index (108, 139) is on the border\n",
      "Index (112, 139) is on the border\n",
      "Index (115, 0) is on the border\n",
      "Index (120, 0) is on the border\n",
      "Index (129, 139) is on the border\n",
      "Index (130, 139) is on the border\n",
      "Index (133, 0) is on the border\n",
      "Index (133, 139) is on the border\n",
      "Index (139, 3) is on the border\n",
      "Index (139, 9) is on the border\n",
      "Index (139, 17) is on the border\n",
      "Index (139, 22) is on the border\n",
      "Index (139, 29) is on the border\n",
      "Index (139, 52) is on the border\n",
      "Index (139, 54) is on the border\n",
      "Index (139, 56) is on the border\n",
      "Index (139, 57) is on the border\n",
      "Index (139, 76) is on the border\n",
      "Index (139, 79) is on the border\n",
      "Index (139, 84) is on the border\n",
      "Index (139, 109) is on the border\n",
      "Index (139, 116) is on the border\n",
      "Index (139, 124) is on the border\n",
      "Number of mas in x:  1890\n"
     ]
    }
   ],
   "source": [
    "# Looking for pairs of MAS that form an X\n",
    "# test1 has 9 pairs of MAS that form an X\n",
    "\n",
    "def mas_x_finder(wordsearch: np.array) -> int:\n",
    "\n",
    "    shape = wordsearch.shape\n",
    "    a_indices = [tuple(index) for index in np.argwhere(wordsearch == 'A')]\n",
    "    \n",
    "    mas_x_count = 0\n",
    "    for index in a_indices:\n",
    "        #print(index)\n",
    "        row, col = index\n",
    "        if row == 0 or row == shape[0] - 1 or col == 0 or col == shape[1] - 1:\n",
    "            print(f\"Index {index} is on the border\")\n",
    "        else:\n",
    "            #print(f\"Index {index} is not on the border\")\n",
    "            if wordsearch[row - 1, col - 1] == 'M' and wordsearch[row + 1, col + 1] == 'S':\n",
    "                if wordsearch[row - 1, col + 1] == 'M' and wordsearch[row + 1, col - 1] == 'S':\n",
    "                    mas_x_count += 1\n",
    "                elif wordsearch[row - 1, col + 1] == 'S' and wordsearch[row + 1, col - 1] == 'M':\n",
    "                    mas_x_count += 1\n",
    "            elif wordsearch[row - 1, col - 1] == 'S' and wordsearch[row + 1, col + 1] == 'M':\n",
    "                if wordsearch[row - 1, col + 1] == 'M' and wordsearch[row + 1, col - 1] == 'S':\n",
    "                    mas_x_count += 1\n",
    "                elif wordsearch[row - 1, col + 1] == 'S' and wordsearch[row + 1, col - 1] == 'M':\n",
    "                    mas_x_count += 1\n",
    "    assert mas_x_count <= len(a_indices)\n",
    "    \n",
    "    return mas_x_count\n",
    "\n",
    "strings3 = [\".M.S......\", \"..A..MSMS.\", \".M.S.MAA..\", \"..A.ASMSM.\", \n",
    "            \".M.S.M....\", \"..........\", \"S.S.S.S.S.\", \".A.A.A.A..\", \"M.M.M.M.M.\", \"..........\"]\n",
    "test3 = stringlist_to_array(strings3)\n",
    "#print(test3)\n",
    "assert mas_x_finder(test3) == 9, mas_x_finder(test3)\n",
    "\n",
    "print(\"Number of mas in x: \", mas_x_finder(wordsearch))          "
   ]
  }
 ],
 "metadata": {
  "kernelspec": {
   "display_name": "peaceviz",
   "language": "python",
   "name": "python3"
  },
  "language_info": {
   "codemirror_mode": {
    "name": "ipython",
    "version": 3
   },
   "file_extension": ".py",
   "mimetype": "text/x-python",
   "name": "python",
   "nbconvert_exporter": "python",
   "pygments_lexer": "ipython3",
   "version": "3.12.0"
  }
 },
 "nbformat": 4,
 "nbformat_minor": 2
}
